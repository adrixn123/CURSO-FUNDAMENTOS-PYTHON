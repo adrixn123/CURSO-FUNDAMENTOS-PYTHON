{
  "nbformat": 4,
  "nbformat_minor": 0,
  "metadata": {
    "colab": {
      "provenance": [],
      "authorship_tag": "ABX9TyNcDgUbenGqvwhCQC8F8jl7",
      "include_colab_link": true
    },
    "kernelspec": {
      "name": "python3",
      "display_name": "Python 3"
    },
    "language_info": {
      "name": "python"
    }
  },
  "cells": [
    {
      "cell_type": "markdown",
      "metadata": {
        "id": "view-in-github",
        "colab_type": "text"
      },
      "source": [
        "<a href=\"https://colab.research.google.com/github/adrixn123/CURSO-FUNDAMENTOS-PYTHON/blob/rama-solucion/jjjjjjjjjjjjjjjj.ipynb\" target=\"_parent\"><img src=\"https://colab.research.google.com/assets/colab-badge.svg\" alt=\"Open In Colab\"/></a>"
      ]
    },
    {
      "cell_type": "code",
      "execution_count": 1,
      "metadata": {
        "colab": {
          "base_uri": "https://localhost:8080/"
        },
        "id": "7F0Y961bZnQV",
        "outputId": "1883be69-5d00-4cb1-b79e-374ffa034a95"
      },
      "outputs": [
        {
          "output_type": "stream",
          "name": "stdout",
          "text": [
            "Bienvenido al juego Adivina el Número\n",
            "Estoy pensando en un número entre 1 y 50\n",
            "Intento 1 - Ingresa tu número: 26\n",
            "El número secreto es mayor\n",
            "Intento 2 - Ingresa tu número: 40\n",
            "El número secreto es menor\n",
            "Intento 3 - Ingresa tu número: 30\n",
            "El número secreto es mayor\n",
            "Intento 4 - Ingresa tu número: 36\n",
            "El número secreto es mayor\n",
            "Intento 5 - Ingresa tu número: 37\n",
            "¡Felicidades! : 37\n"
          ]
        }
      ],
      "source": [
        "import random\n",
        "\n",
        "def adivina_el_numero():\n",
        "    numero_secreto = random.randint(1, 50)\n",
        "    intento = 1\n",
        "\n",
        "    print(\"Bienvenido al juego Adivina el Número\")\n",
        "    print(\"Estoy pensando en un número entre 1 y 50\")\n",
        "\n",
        "    while True:\n",
        "        try:\n",
        "            numero_usuario = int(input(f\"Intento {intento} - Ingresa tu número: \"))\n",
        "\n",
        "            if numero_usuario < numero_secreto:\n",
        "                print(\"El número secreto es mayor\")\n",
        "            elif numero_usuario > numero_secreto:\n",
        "                print(\"El número secreto es menor\")\n",
        "            else:\n",
        "                print(f\"¡Felicidades! : {numero_secreto}\")\n",
        "                break\n",
        "\n",
        "            intento += 1\n",
        "\n",
        "        except ValueError:\n",
        "            print(\"¡Error!\")\n",
        "\n",
        "adivina_el_numero()"
      ]
    }
  ]
}