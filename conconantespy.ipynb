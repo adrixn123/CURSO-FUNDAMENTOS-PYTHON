{
  "nbformat": 4,
  "nbformat_minor": 0,
  "metadata": {
    "colab": {
      "provenance": []
    },
    "kernelspec": {
      "name": "python3",
      "display_name": "Python 3"
    },
    "language_info": {
      "name": "python"
    }
  },
  "cells": [
    {
      "cell_type": "code",
      "execution_count": null,
      "metadata": {
        "id": "zINgsUn_kpws"
      },
      "outputs": [],
      "source": [
        "1# Solicitar al usuario cuántos elementos desea ingresar\n",
        "num_elementos = int(input(\"¿Cuántos elementos desea ingresar en la lista? \"))\n",
        "\n",
        "# Inicializar una lista vacía\n",
        "lista = []\n",
        "\n",
        "# Solicitar cada uno de los elementos\n",
        "for i in range(num_elementos):\n",
        "    elemento = input(f\"Ingrese el elemento {i + 1}: \")\n",
        "    lista.append(elemento)\n",
        "\n",
        "# Mostrar la lista original\n",
        "print(\"\\nLa lista ingresada es:\", lista)\n",
        "\n",
        "# Mostrar la lista invertida\n",
        "lista_invertida = lista[::-1]\n",
        "print(\"La lista invertida es:\", lista_invertida)\n"
      ]
    },
    {
      "cell_type": "code",
      "source": [
        "1# Solicitar al usuario cuántos elementos desea ingresar\n",
        "num_elementos = int(input(\"¿Cuántos elementos desea ingresar en la lista? \"))\n",
        "\n",
        "# Inicializar una lista vacía\n",
        "lista = []\n",
        "\n",
        "# Solicitar cada uno de los elementos\n",
        "for i in range(num_elementos):\n",
        "    elemento = input(f\"Ingrese el elemento {i + 1}: \")\n",
        "    lista.append(elemento)\n",
        "\n",
        "# Mostrar la lista original\n",
        "print(\"\\nLa lista ingresada es:\", lista)\n",
        "\n",
        "# Mostrar la lista invertida\n",
        "lista_invertida = lista[::-1]\n",
        "print(\"La lista invertida es:\", lista_invertida)\n"
      ],
      "metadata": {
        "id": "TkQfvOPrkttN"
      },
      "execution_count": null,
      "outputs": []
    },
    {
      "cell_type": "code",
      "source": [
        "# Solicitar al usuario dos frases\n",
        "frase1 = input(\"Ingresa la primera frase: \")\n",
        "frase2 = input(\"Ingresa la segunda frase: \")\n",
        "\n",
        "# Inicializar una lista para almacenar las letras que coinciden\n",
        "letras_coincidentes = []\n",
        "\n",
        "# Determinar la longitud mínima entre las dos frases para evitar errores de índice\n",
        "longitud_minima = min(len(frase1), len(frase2))\n",
        "\n",
        "# Recorrer ambas frases y comparar las letras en la misma posición\n",
        "for i in range(longitud_minima):\n",
        "    if frase1[i] == frase2[i]:\n",
        "        letras_coincidentes.append(frase1[i])\n",
        "\n",
        "# Mostrar el resultado\n",
        "print(\"Letras que coinciden en la misma posición:\", letras_coincidentes)"
      ],
      "metadata": {
        "id": "SI4HERZkkyzM"
      },
      "execution_count": null,
      "outputs": []
    }
  ]
}