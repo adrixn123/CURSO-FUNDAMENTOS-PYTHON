{
  "nbformat": 4,
  "nbformat_minor": 0,
  "metadata": {
    "colab": {
      "provenance": []
    },
    "kernelspec": {
      "name": "python3",
      "display_name": "Python 3"
    },
    "language_info": {
      "name": "python"
    }
  },
  "cells": [
    {
      "cell_type": "code",
      "execution_count": 33,
      "metadata": {
        "colab": {
          "base_uri": "https://localhost:8080/"
        },
        "id": "fr_9375nAfFw",
        "outputId": "5f7cd764-1553-4c76-b5a0-d8ac773fa339"
      },
      "outputs": [
        {
          "output_type": "stream",
          "name": "stdout",
          "text": [
            "Ingrese la cantidad de frutos recolectados: 45\n",
            "Ingrese la cantidad de frutos producidos: 67\n",
            "Índice de cosecha: 67.16%\n"
          ]
        }
      ],
      "source": [
        "# 1. Programa que calcula el índice de cosecha\n",
        "def indice_cosecha(frutos_recolectados, frutos_producidos):\n",
        "    return (frutos_recolectados / frutos_producidos) * 100\n",
        "\n",
        "fr_recolectados = float(input(\"Ingrese la cantidad de frutos recolectados: \"))\n",
        "fr_producidos = float(input(\"Ingrese la cantidad de frutos producidos: \"))\n",
        "\n",
        "print(f\"Índice de cosecha: {indice_cosecha(fr_recolectados, fr_producidos):.2f}%\")"
      ]
    },
    {
      "cell_type": "code",
      "source": [
        "2. #se da el print para imprimir los datos de la letra\n",
        "print('\\n'.join(['-----', '|    |', '|    |','|    |','|    |','-----','|     ','|     ','|     ']))"
      ],
      "metadata": {
        "colab": {
          "base_uri": "https://localhost:8080/"
        },
        "id": "K9Puru6EZlHa",
        "outputId": "71310915-2beb-4f4d-ab13-55fbda236bb7"
      },
      "execution_count": 34,
      "outputs": [
        {
          "output_type": "stream",
          "name": "stdout",
          "text": [
            "-----\n",
            "|    |\n",
            "|    |\n",
            "|    |\n",
            "|    |\n",
            "-----\n",
            "|     \n",
            "|     \n",
            "|     \n"
          ]
        }
      ]
    },
    {
      "cell_type": "code",
      "source": [
        "# 3. Calcular la calificación final en Matemáticas\n",
        "def calificacion_final(parciales, examen, trabajo):\n",
        "    promedio_parciales = sum(parciales) / len(parciales)\n",
        "    return (promedio_parciales * 0.55) + (examen * 0.30) + (trabajo * 0.15)\n",
        "\n",
        "parciales = [float(input(f\"Ingrese la nota del parcial {i+1}: \")) for i in range(3)]\n",
        "examen = float(input(\"Ingrese la nota del examen final: \"))\n",
        "trabajo = float(input(\"Ingrese la nota del trabajo final: \"))\n",
        "\n",
        "print(f\"Calificación final: {calificacion_final(parciales, examen, trabajo):.2f}\")"
      ],
      "metadata": {
        "colab": {
          "base_uri": "https://localhost:8080/"
        },
        "id": "FXLA-52-ZqqM",
        "outputId": "2799e2d5-f74b-4cec-9cd2-99536ed5ae6f"
      },
      "execution_count": 35,
      "outputs": [
        {
          "output_type": "stream",
          "name": "stdout",
          "text": [
            "Ingrese la nota del parcial 1: 50\n",
            "Ingrese la nota del parcial 2: 50\n",
            "Ingrese la nota del parcial 3: 50\n",
            "Ingrese la nota del examen final: 50\n",
            "Ingrese la nota del trabajo final: 50\n",
            "Calificación final: 50.00\n"
          ]
        }
      ]
    },
    {
      "cell_type": "code",
      "source": [
        "# 4. Contar el número de palabras en una frase\n",
        "frase = input(\"Ingrese una frase: \")\n",
        "print(f\"Número de palabras en la frase: {len(frase.split())}\")"
      ],
      "metadata": {
        "colab": {
          "base_uri": "https://localhost:8080/"
        },
        "id": "u3zIffE9Z2Hd",
        "outputId": "17973c94-d853-40f7-9897-0b167414084e"
      },
      "execution_count": 36,
      "outputs": [
        {
          "output_type": "stream",
          "name": "stdout",
          "text": [
            "Ingrese una frase: hola\n",
            "Número de palabras en la frase: 1\n"
          ]
        }
      ]
    },
    {
      "cell_type": "code",
      "source": [
        "# 5. Transformar frase a mayúscula sostenida e invertirla\n",
        "frase_modificada = frase.upper()[::-1]\n",
        "print(f\"Frase transformada: {frase_modificada}\")"
      ],
      "metadata": {
        "colab": {
          "base_uri": "https://localhost:8080/"
        },
        "id": "WFb0cuA1Z3XK",
        "outputId": "a73a2cf3-c960-4ea8-a5e0-17a7f2bfa1de"
      },
      "execution_count": 38,
      "outputs": [
        {
          "output_type": "stream",
          "name": "stdout",
          "text": [
            "Frase transformada: ALOH\n"
          ]
        }
      ]
    }
  ]
}