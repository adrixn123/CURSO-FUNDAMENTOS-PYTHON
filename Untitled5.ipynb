{
  "nbformat": 4,
  "nbformat_minor": 0,
  "metadata": {
    "colab": {
      "provenance": [],
      "authorship_tag": "ABX9TyPDVUuyygJXoiIqWYgMA1mZ",
      "include_colab_link": true
    },
    "kernelspec": {
      "name": "python3",
      "display_name": "Python 3"
    },
    "language_info": {
      "name": "python"
    }
  },
  "cells": [
    {
      "cell_type": "markdown",
      "metadata": {
        "id": "view-in-github",
        "colab_type": "text"
      },
      "source": [
        "<a href=\"https://colab.research.google.com/github/adrixn123/CURSO-FUNDAMENTOS-PYTHON/blob/main/Untitled5.ipynb\" target=\"_parent\"><img src=\"https://colab.research.google.com/assets/colab-badge.svg\" alt=\"Open In Colab\"/></a>"
      ]
    },
    {
      "cell_type": "code",
      "execution_count": 1,
      "metadata": {
        "colab": {
          "base_uri": "https://localhost:8080/"
        },
        "id": "X5He_Or5dqKZ",
        "outputId": "1bfbfdd8-367b-4e8a-fb42-366d80ded44c"
      },
      "outputs": [
        {
          "output_type": "stream",
          "name": "stdout",
          "text": [
            "Ingrese el primer valor: 20\n",
            "Ingrese el segundo valor: 80\n",
            "Ingrese la operacion que quiere realizar (+, -, *, /, **, //): +\n",
            "Resultado: 20.0 + 80.0 = 100.0\n"
          ]
        }
      ],
      "source": [
        "def calculadora():\n",
        "    try:\n",
        "        num1 = float(input(\"Ingrese el primer valor: \"))\n",
        "        num2 = float(input(\"Ingrese el segundo valor: \"))\n",
        "        operador = input(\"Ingrese la operacion que quiere realizar (+, -, *, /, **, //): \")\n",
        "\n",
        "        if operador == '+':\n",
        "            resultado = num1 + num2\n",
        "        elif operador == '-':\n",
        "            resultado = num1 - num2\n",
        "        elif operador == '*':\n",
        "            resultado = num1 * num2\n",
        "        elif operador == '/':\n",
        "            if num2 != 0:\n",
        "                resultado = num1 / num2\n",
        "            else:\n",
        "                print(\"no se puede dividir\")\n",
        "                return\n",
        "        elif operador == '**':\n",
        "            resultado = num1 ** num2\n",
        "        elif operador == '//':\n",
        "            if num2 != 0:\n",
        "                resultado = num1 // num2\n",
        "            else:\n",
        "                print(\"no se puede dividir\")\n",
        "                return\n",
        "        else:\n",
        "            print(\"no valido\")\n",
        "            return\n",
        "\n",
        "        print(f\"Resultado: {num1} {operador} {num2} = {resultado}\")\n",
        "\n",
        "    except ValueError:\n",
        "        print(\"ingrese numeros correctos\")\n",
        "calculadora()\n"
      ]
    },
    {
      "cell_type": "code",
      "source": [
        "def mostrar_inventario(inventario):\n",
        "    print(\"Inventario actual:\")\n",
        "    for producto, cantidad in inventario.items():\n",
        "        print(f\"- {producto}: {cantidad} unidades\")\n",
        "    print()\n",
        "\n",
        "def agregar_producto(inventario, producto, cantidad):\n",
        "    inventario[producto] = cantidad\n",
        "    print(f\"Producto '{producto}' agregado con {cantidad} unidades.\")\n",
        "\n",
        "def actualizar_producto(inventario, producto, cantidad):\n",
        "    if producto in inventario:\n",
        "        inventario[producto] = cantidad\n",
        "        print(f\"producto de '{producto}' actualizado a {cantidad} unidades.\")\n",
        "    else:\n",
        "        print(f\"El producto '{producto}' no existe en el inventario.\")\n",
        "\n",
        "def eliminar_producto(inventario, producto):\n",
        "    if producto in inventario:\n",
        "        del inventario[producto]\n",
        "        print(f\"Producto '{producto}' eliminado.\")\n",
        "    else:\n",
        "        print(f\"El producto '{producto}' no existe en el inventario.\")\n",
        "\n",
        "inventario = {'manzanas': 50, 'naranjas': 30, 'peras': 20}\n",
        "mostrar_inventario(inventario)\n",
        "\n",
        "actualizar_producto(inventario, 'peras', 2500000)\n",
        "agregar_producto(inventario, 'bananas', 40)\n",
        "eliminar_producto(inventario, 'naranjas')\n",
        "\n",
        "mostrar_inventario(inventario)\n"
      ],
      "metadata": {
        "colab": {
          "base_uri": "https://localhost:8080/"
        },
        "id": "9tPQX7HCguuB",
        "outputId": "33e7a34b-8383-43e7-8fb7-ed38a3500f69"
      },
      "execution_count": 6,
      "outputs": [
        {
          "output_type": "stream",
          "name": "stdout",
          "text": [
            "Inventario actual:\n",
            "- manzanas: 50 unidades\n",
            "- naranjas: 30 unidades\n",
            "- peras: 20 unidades\n",
            "\n",
            "producto de 'peras' actualizado a 2500000 unidades.\n",
            "Producto 'bananas' agregado con 40 unidades.\n",
            "Producto 'naranjas' eliminado.\n",
            "Inventario actual:\n",
            "- manzanas: 50 unidades\n",
            "- peras: 2500000 unidades\n",
            "- bananas: 40 unidades\n",
            "\n"
          ]
        }
      ]
    },
    {
      "cell_type": "code",
      "source": [
        "import re\n",
        "\n",
        "def analizar_texto(texto):\n",
        "    try:\n",
        "        if not texto:\n",
        "            raise ValueError(\"El texto no puede estar vacío.\")\n",
        "\n",
        "        texto = texto.lower()\n",
        "        palabras = re.findall(r'\\b\\w+\\b', texto)\n",
        "\n",
        "        frecuencia = {}\n",
        "        for palabra in palabras:\n",
        "            if palabra in frecuencia:\n",
        "                frecuencia[palabra] += 1\n",
        "            else:\n",
        "                frecuencia[palabra] = 1\n",
        "\n",
        "        print(\"Frecuencia de palabras:\")\n",
        "        for palabra, cantidad in frecuencia.items():\n",
        "            print(f\"{palabra}: {cantidad}\")\n",
        "\n",
        "    except ValueError as e:\n",
        "        print(\"Error:\", e)\n",
        "    except Exception as e:\n",
        "        print(\"Error inesperado:\", e)\n",
        "\n",
        "texto = input(\"Ingrese un texto: \")\n",
        "analizar_texto(texto)\n"
      ],
      "metadata": {
        "colab": {
          "base_uri": "https://localhost:8080/"
        },
        "id": "crNtmM1Qg23a",
        "outputId": "835bd7be-acfb-4680-dc98-57e256d1270f"
      },
      "execution_count": 7,
      "outputs": [
        {
          "output_type": "stream",
          "name": "stdout",
          "text": [
            "Ingrese un texto: Hola, mundo! Estoy probando que mi código en Python funcione correctamente, y hasta ahora todo parece estar bien\n",
            "Frecuencia de palabras:\n",
            "hola: 1\n",
            "mundo: 1\n",
            "estoy: 1\n",
            "probando: 1\n",
            "que: 1\n",
            "mi: 1\n",
            "código: 1\n",
            "en: 1\n",
            "python: 1\n",
            "funcione: 1\n",
            "correctamente: 1\n",
            "y: 1\n",
            "hasta: 1\n",
            "ahora: 1\n",
            "todo: 1\n",
            "parece: 1\n",
            "estar: 1\n",
            "bien: 1\n"
          ]
        }
      ]
    },
    {
      "cell_type": "code",
      "source": [
        "def cm_a_pulgadas(cm):\n",
        "    return cm / 2.54\n",
        "\n",
        "def km_a_millas(km):\n",
        "    return km * 0.621371\n",
        "\n",
        "def convertir_unidades():\n",
        "    try:\n",
        "        print(\"Seleccione la conversión:\")\n",
        "        print(\"1. Centímetros a pulgadas\")\n",
        "        print(\"2. Kilómetros a millas\")\n",
        "\n",
        "        opcion = int(input(\"Opción: \"))\n",
        "\n",
        "        if opcion == 1:\n",
        "            cm = float(input(\"Ingrese la cantidad en centímetros: \"))\n",
        "            resultado = cm_a_pulgadas(cm)\n",
        "            print(f\"{cm} cm = {resultado:.2f} pulgadas\")\n",
        "\n",
        "        elif opcion == 2:\n",
        "            km = float(input(\"Ingrese la cantidad en kilómetros: \"))\n",
        "            resultado = km_a_millas(km)\n",
        "            print(f\"{km} km = {resultado:.2f} millas\")\n",
        "\n",
        "        else:\n",
        "            print(\"Opción no válida.\")\n",
        "\n",
        "    except ValueError:\n",
        "        print(\"Error\")\n",
        "\n",
        "convertir_unidades()\n",
        "def cm_a_pulgadas(cm):\n",
        "    return cm / 2.54\n",
        "\n",
        "def km_a_millas(km):\n",
        "    return km * 0.621371\n",
        "\n",
        "def convertir_unidades():\n",
        "    try:\n",
        "        print(\"Seleccione la conversión:\")\n",
        "        print(\"1. Centímetros a pulgadas\")\n",
        "        print(\"2. Kilómetros a millas\")\n",
        "\n",
        "        opcion = int(input(\"Opción: \"))\n",
        "\n",
        "        if opcion == 1:\n",
        "            cm = float(input(\"Ingrese la cantidad en centímetros: \"))\n",
        "            resultado = cm_a_pulgadas(cm)\n",
        "            print(f\"{cm} cm = {resultado:.2f} pulgadas\")\n",
        "\n",
        "        elif opcion == 2:\n",
        "            km = float(input(\"Ingrese la cantidad en kilómetros: \"))\n",
        "            resultado = km_a_millas(km)\n",
        "            print(f\"{km} km = {resultado:.2f} millas\")\n",
        "\n",
        "        else:\n",
        "            print(\"error\")\n",
        "\n",
        "    except ValueError:\n",
        "        print(\"opcion invalida\")\n",
        "\n",
        "convertir_unidades()\n"
      ],
      "metadata": {
        "colab": {
          "base_uri": "https://localhost:8080/"
        },
        "id": "9IMur2VLh6m2",
        "outputId": "ef68a0fd-5788-4b0b-9d88-29604b1f0e27"
      },
      "execution_count": 8,
      "outputs": [
        {
          "output_type": "stream",
          "name": "stdout",
          "text": [
            "Seleccione la conversión:\n",
            "1. Centímetros a pulgadas\n",
            "2. Kilómetros a millas\n",
            "Opción: 2\n",
            "Ingrese la cantidad en kilómetros: 120\n",
            "120.0 km = 74.56 millas\n",
            "Seleccione la conversión:\n",
            "1. Centímetros a pulgadas\n",
            "2. Kilómetros a millas\n",
            "Opción: 1\n",
            "Ingrese la cantidad en centímetros: 70\n",
            "70.0 cm = 27.56 pulgadas\n"
          ]
        }
      ]
    },
    {
      "cell_type": "code",
      "source": [
        "import random\n",
        "\n",
        "def adivina_el_numero():\n",
        "    numero_secreto = random.randint(1, 50)\n",
        "    intento = 1\n",
        "\n",
        "    print(\"Bienvenido al juego Adivina el Número\")\n",
        "    print(\"Estoy pensando en un número entre 1 y 50\")\n",
        "\n",
        "    while True:\n",
        "        try:\n",
        "            numero_usuario = int(input(f\"Intento {intento} - Ingresa tu número: \"))\n",
        "\n",
        "            if numero_usuario < numero_secreto:\n",
        "                print(\"El número secreto es mayor\")\n",
        "            elif numero_usuario > numero_secreto:\n",
        "                print(\"El número secreto es menor\")\n",
        "            else:\n",
        "                print(f\"¡Felicidades! : {numero_secreto}\")\n",
        "                break\n",
        "\n",
        "            intento += 1\n",
        "\n",
        "        except ValueError:\n",
        "            print(\"¡Error!\")\n",
        "\n",
        "adivina_el_numero()\n"
      ],
      "metadata": {
        "colab": {
          "base_uri": "https://localhost:8080/"
        },
        "id": "0u5EVSdPiLZK",
        "outputId": "41ed532a-5ae1-4ac7-fec1-bc2f5992750a"
      },
      "execution_count": 9,
      "outputs": [
        {
          "output_type": "stream",
          "name": "stdout",
          "text": [
            "Bienvenido al juego Adivina el Número\n",
            "Estoy pensando en un número entre 1 y 50\n",
            "Intento 1 - Ingresa tu número: 20\n",
            "El número secreto es mayor\n",
            "Intento 2 - Ingresa tu número: 30\n",
            "El número secreto es mayor\n",
            "Intento 3 - Ingresa tu número: 48\n",
            "El número secreto es menor\n",
            "Intento 4 - Ingresa tu número: 40\n",
            "¡Felicidades! : 40\n"
          ]
        }
      ]
    },
    {
      "cell_type": "code",
      "source": [
        "def calcular_factorial():\n",
        "    try:\n",
        "        numero = int(input(\"Ingrese un número entero para calcular su factorial: \"))\n",
        "\n",
        "        if numero < 0:\n",
        "            print(\"El número no puede ser negativo.\")\n",
        "            return\n",
        "\n",
        "        factorial = 1\n",
        "        for i in range(1, numero + 1):\n",
        "            factorial *= i\n",
        "\n",
        "        print(f\"El factorial de {numero} es {factorial}\")\n",
        "\n",
        "    except ValueError:\n",
        "        print(\"Debes ingresar un número entero válido\")\n",
        "\n",
        "calcular_factorial()\n"
      ],
      "metadata": {
        "colab": {
          "base_uri": "https://localhost:8080/"
        },
        "id": "2yfKQ9r2idAh",
        "outputId": "5562d179-c188-4dd2-e885-cdf85375fd50"
      },
      "execution_count": 10,
      "outputs": [
        {
          "output_type": "stream",
          "name": "stdout",
          "text": [
            "Ingrese un número entero para calcular su factorial: 10\n",
            "El factorial de 10 es 3628800\n"
          ]
        }
      ]
    },
    {
      "cell_type": "code",
      "source": [
        "from datetime import datetime\n",
        "\n",
        "def calcular_dias_faltantes():\n",
        "    try:\n",
        "        fecha_str = input(\"Ingrese una fecha (DD/MM/AAAA): \")\n",
        "        fecha_ingresada = datetime.strptime(fecha_str, \"%d/%m/%Y\")\n",
        "        fecha_hoy = datetime.today()\n",
        "        diferencia = fecha_ingresada - fecha_hoy\n",
        "        dias_faltantes = diferencia.days\n",
        "\n",
        "        if dias_faltantes < 0:\n",
        "            print(f\"La fecha ingresada ya pasó. Fue hace {-dias_faltantes} días.\")\n",
        "        else:\n",
        "            print(f\"Faltan {dias_faltantes} días para el {fecha_str}.\")\n",
        "\n",
        "    except ValueError:\n",
        "        print(\"El formato de la fecha debe ser DD/MM/AAAA.\")\n",
        "\n",
        "calcular_dias_faltantes()\n"
      ],
      "metadata": {
        "collapsed": true,
        "colab": {
          "base_uri": "https://localhost:8080/"
        },
        "id": "SR4LZwP3ikIy",
        "outputId": "e9ef5cea-2ea2-426d-f2a0-d85899ad9ea6"
      },
      "execution_count": 13,
      "outputs": [
        {
          "output_type": "stream",
          "name": "stdout",
          "text": [
            "Ingrese una fecha (DD/MM/AAAA): 25/12/2006\n",
            "La fecha ingresada ya pasó. Fue hace 6693 días.\n"
          ]
        }
      ]
    },
    {
      "cell_type": "code",
      "source": [
        "def agregar_estudiante(registro, nombre, calificacion):\n",
        "    registro[nombre] = calificacion\n",
        "    print(f\"Estudiante agregado: {nombre} - {calificacion}\")\n",
        "\n",
        "def actualizar_calificacion(registro, nombre, calificacion):\n",
        "    if nombre in registro:\n",
        "        registro[nombre] = calificacion\n",
        "        print(f\"Estudiante actualizado: {nombre} - {calificacion}\")\n",
        "    else:\n",
        "        print(f\"Error: El estudiante {nombre} no existe.\")\n",
        "\n",
        "def eliminar_estudiante(registro, nombre):\n",
        "    if nombre in registro:\n",
        "        del registro[nombre]\n",
        "        print(f\"Estudiante {nombre} eliminado.\")\n",
        "    else:\n",
        "        print(f\"Error: El estudiante {nombre} no existe.\")\n",
        "\n",
        "def listar_estudiantes(registro):\n",
        "    if registro:\n",
        "        print(\"Registro de estudiantes:\")\n",
        "        for nombre, calificacion in registro.items():\n",
        "            print(f\"{nombre}: {calificacion}\")\n",
        "    else:\n",
        "        print(\"No hay estudiantes registrados.\")\n",
        "\n",
        "def menu():\n",
        "    registro = {'Ana': 90, 'Luis': 78, 'Carlos': 85}\n",
        "\n",
        "    while True:\n",
        "        print(\"\\nMenú:\")\n",
        "        print(\"1. Agregar estudiante\")\n",
        "        print(\"2. Actualizar calificación\")\n",
        "        print(\"3. Eliminar estudiante\")\n",
        "        print(\"4. Listar estudiantes\")\n",
        "        print(\"5. Salir\")\n",
        "\n",
        "        try:\n",
        "            opcion = int(input(\"Opción: \"))\n",
        "\n",
        "            if opcion == 1:\n",
        "                nombre = input(\"Ingrese el nombre del estudiante: \")\n",
        "                calificacion = float(input(\"Ingrese la calificación: \"))\n",
        "                agregar_estudiante(registro, nombre, calificacion)\n",
        "\n",
        "            elif opcion == 2:\n",
        "                nombre = input(\"Ingrese el nombre del estudiante: \")\n",
        "                calificacion = float(input(\"Ingrese la nueva calificación: \"))\n",
        "                actualizar_calificacion(registro, nombre, calificacion)\n",
        "\n",
        "            elif opcion == 3:\n",
        "                nombre = input(\"Ingrese el nombre del estudiante a eliminar: \")\n",
        "                eliminar_estudiante(registro, nombre)\n",
        "\n",
        "            elif opcion == 4:\n",
        "                listar_estudiantes(registro)\n",
        "\n",
        "            elif opcion == 5:\n",
        "                print(\"Saliendo del programa.\")\n",
        "                break\n",
        "\n",
        "            else:\n",
        "                print(\"Opción no válida.\")\n",
        "\n",
        "        except ValueError:\n",
        "            print(\"Error: Debes ingresar una opción válida.\")\n",
        "\n",
        "    print(f\"Registro final: {registro}\")\n",
        "\n",
        "menu()\n"
      ],
      "metadata": {
        "colab": {
          "base_uri": "https://localhost:8080/"
        },
        "collapsed": true,
        "id": "vSWdMLtHi73M",
        "outputId": "632472ea-eb9d-4b18-a597-ebde1fc2e669"
      },
      "execution_count": 15,
      "outputs": [
        {
          "output_type": "stream",
          "name": "stdout",
          "text": [
            "\n",
            "Menú:\n",
            "1. Agregar estudiante\n",
            "2. Actualizar calificación\n",
            "3. Eliminar estudiante\n",
            "4. Listar estudiantes\n",
            "5. Salir\n",
            "Opción: 1\n",
            "Ingrese el nombre del estudiante: pepito perez\n",
            "Ingrese la calificación: 20\n",
            "Estudiante agregado: pepito perez - 20.0\n",
            "\n",
            "Menú:\n",
            "1. Agregar estudiante\n",
            "2. Actualizar calificación\n",
            "3. Eliminar estudiante\n",
            "4. Listar estudiantes\n",
            "5. Salir\n",
            "Opción: 2\n",
            "Ingrese el nombre del estudiante: pepito perez\n",
            "Ingrese la nueva calificación: 90\n",
            "Estudiante actualizado: pepito perez - 90.0\n",
            "\n",
            "Menú:\n",
            "1. Agregar estudiante\n",
            "2. Actualizar calificación\n",
            "3. Eliminar estudiante\n",
            "4. Listar estudiantes\n",
            "5. Salir\n",
            "Opción: 3\n",
            "Ingrese el nombre del estudiante a eliminar: pepito perez\n",
            "Estudiante pepito perez eliminado.\n",
            "\n",
            "Menú:\n",
            "1. Agregar estudiante\n",
            "2. Actualizar calificación\n",
            "3. Eliminar estudiante\n",
            "4. Listar estudiantes\n",
            "5. Salir\n",
            "Opción: 4\n",
            "Registro de estudiantes:\n",
            "Ana: 90\n",
            "Luis: 78\n",
            "Carlos: 85\n",
            "\n",
            "Menú:\n",
            "1. Agregar estudiante\n",
            "2. Actualizar calificación\n",
            "3. Eliminar estudiante\n",
            "4. Listar estudiantes\n",
            "5. Salir\n",
            "Opción: 5\n",
            "Saliendo del programa.\n",
            "Registro final: {'Ana': 90, 'Luis': 78, 'Carlos': 85}\n"
          ]
        }
      ]
    },
    {
      "cell_type": "code",
      "source": [
        "import random\n",
        "import string\n",
        "\n",
        "def generar_contraseña():\n",
        "    try:\n",
        "        longitud = int(input(\"Ingrese la longitud deseada para la contraseña: \"))\n",
        "\n",
        "        if longitud <= 0:\n",
        "            print(\"La longitud debe ser un número entero positivo.\")\n",
        "            return\n",
        "\n",
        "        caracteres = string.ascii_letters + string.digits + string.punctuation\n",
        "        contraseña = ''.join(random.choice(caracteres) for _ in range(longitud))\n",
        "\n",
        "        print(f\"Contraseña generada: {contraseña}\")\n",
        "\n",
        "    except ValueError:\n",
        "        print(\"La longitud debe ser un número entero positivo.\")\n",
        "\n",
        "generar_contraseña()\n"
      ],
      "metadata": {
        "colab": {
          "base_uri": "https://localhost:8080/"
        },
        "id": "OrE4SuSdjXEC",
        "outputId": "e07c86f0-b8e6-447f-e52f-81165b9a366a"
      },
      "execution_count": 16,
      "outputs": [
        {
          "output_type": "stream",
          "name": "stdout",
          "text": [
            "Ingrese la longitud deseada para la contraseña: 10\n",
            "Contraseña generada: SXBS99J~+o\n"
          ]
        }
      ]
    },
    {
      "cell_type": "code",
      "source": [
        "import os\n",
        "\n",
        "def buscar_archivos():\n",
        "    try:\n",
        "        directorio = input(\"Ingrese la ruta del directorio: \")\n",
        "        subcadena = input(\"Ingrese la subcadena a buscar: \")\n",
        "\n",
        "        if not os.path.isdir(directorio):\n",
        "            print(\"El directorio no existe o no es un directorio válido.\")\n",
        "            return\n",
        "\n",
        "        archivos_encontrados = []\n",
        "        for archivo in os.listdir(directorio):\n",
        "            if os.path.isfile(os.path.join(directorio, archivo)) and subcadena in archivo:\n",
        "                archivos_encontrados.append(archivo)\n",
        "\n",
        "        if archivos_encontrados:\n",
        "            print(f\"Archivos encontrados que contienen \\\"{subcadena}\\\":\")\n",
        "            for archivo in archivos_encontrados:\n",
        "                print(archivo)\n",
        "        else:\n",
        "            print(f\"No se encontraron archivos que contengan \\\"{subcadena}\\\".\")\n",
        "\n",
        "    except PermissionError:\n",
        "        print(\"Permisos insuficientes para acceder al directorio.\")\n",
        "    except Exception as e:\n",
        "        print(f\"Error: {e}\")\n",
        "\n",
        "buscar_archivos()\n"
      ],
      "metadata": {
        "colab": {
          "base_uri": "https://localhost:8080/"
        },
        "id": "tVONIclqjwaa",
        "outputId": "cca07300-2cf1-4cbc-8416-ac1deb9ca726"
      },
      "execution_count": 17,
      "outputs": [
        {
          "output_type": "stream",
          "name": "stdout",
          "text": [
            "Ingrese la ruta del directorio: reporte_marzo.pdf\n",
            "Ingrese la subcadena a buscar: reporte_marzo.pdf\n",
            "El directorio no existe o no es un directorio válido.\n"
          ]
        }
      ]
    }
  ]
}